{
 "cells": [
  {
   "cell_type": "code",
   "execution_count": 1,
   "metadata": {},
   "outputs": [],
   "source": [
    "from nltk.corpus import wordnet as wn\n",
    "import json"
   ]
  },
  {
   "cell_type": "code",
   "execution_count": 2,
   "metadata": {},
   "outputs": [],
   "source": [
    "#WordNet Graph.py\n",
    "def closure_graph(synset,fn):\n",
    "    seen = set()\n",
    "    node = set()\n",
    "    edge = list()\n",
    "    \n",
    "    def recurse(s):\n",
    "        if not s in seen:\n",
    "            seen.add(s)\n",
    "            print(s.lemma_names('eng')[0])\n",
    "            node.add(s.lemma_names('eng')[0])\n",
    "            for s1 in fn(s):\n",
    "                \n",
    "                node.add(s1.lemma_names('eng')[0])\n",
    "                edge.append({\"source\":s.lemma_names('eng')[0],\"target\":s1.lemma_names('eng')[0]})\n",
    "                recurse(s1)\n",
    "    recurse(synset)\n",
    "    return (list(node),edge)"
   ]
  },
  {
   "cell_type": "code",
   "execution_count": 3,
   "metadata": {},
   "outputs": [
    {
     "name": "stdout",
     "output_type": "stream",
     "text": [
      "dog\n",
      "canine\n",
      "carnivore\n",
      "placental\n",
      "mammal\n",
      "vertebrate\n",
      "chordate\n",
      "animal\n",
      "organism\n",
      "living_thing\n",
      "whole\n",
      "object\n",
      "physical_entity\n",
      "entity\n",
      "domestic_animal\n",
      "(['whole', 'carnivore', 'dog', 'organism', 'entity', 'domestic_animal', 'object', 'canine', 'animal', 'living_thing', 'placental', 'vertebrate', 'physical_entity', 'mammal', 'chordate'], [{'source': 'dog', 'target': 'canine'}, {'source': 'canine', 'target': 'carnivore'}, {'source': 'carnivore', 'target': 'placental'}, {'source': 'placental', 'target': 'mammal'}, {'source': 'mammal', 'target': 'vertebrate'}, {'source': 'vertebrate', 'target': 'chordate'}, {'source': 'chordate', 'target': 'animal'}, {'source': 'animal', 'target': 'organism'}, {'source': 'organism', 'target': 'living_thing'}, {'source': 'living_thing', 'target': 'whole'}, {'source': 'whole', 'target': 'object'}, {'source': 'object', 'target': 'physical_entity'}, {'source': 'physical_entity', 'target': 'entity'}, {'source': 'dog', 'target': 'domestic_animal'}, {'source': 'domestic_animal', 'target': 'animal'}]) \n",
      "\n",
      "['animal', 'animate_being', 'beast', 'brute', 'creature', 'fauna']\n"
     ]
    }
   ],
   "source": [
    "#WordNet Graph.py\n",
    "dog = wn.synset('dog.n.01')\n",
    "graph = closure_graph(dog, lambda s: s.hypernyms())\n",
    "with open(\"wordnet.json\",\"w\") as fh:\n",
    "    json.dump({\"node\":graph[0],\"edge\":graph[1]},fh)\n",
    "print(graph, '\\n')\n",
    "\n",
    "animal = wn.synset('animal.n.01')\n",
    "print(animal.lemma_names('eng'))"
   ]
  },
  {
   "cell_type": "code",
   "execution_count": 4,
   "metadata": {},
   "outputs": [
    {
     "data": {
      "text/plain": [
       "Synset('dog.n.01')"
      ]
     },
     "execution_count": 4,
     "metadata": {},
     "output_type": "execute_result"
    }
   ],
   "source": [
    "dog1 = wn.synsets('dog')[0]\n",
    "dog1"
   ]
  },
  {
   "cell_type": "code",
   "execution_count": 5,
   "metadata": {},
   "outputs": [],
   "source": [
    "def closure_graph(synset,fn):\n",
    "    seen = set()\n",
    "    node = set()\n",
    "    edge = list()\n",
    "    \n",
    "    \n",
    "    def recurse(s):\n",
    "        if not s in seen:\n",
    "            seen.add(s)\n",
    "            print(s.lemma_names('eng')[0])\n",
    "            node.add(s.lemma_names('eng')[0])\n",
    "            for ss in s.lemma_names('eng'):\n",
    "                if not ss in seen:\n",
    "                    node.add(ss)\n",
    "                edge.append({\"source\":s.lemma_names('eng')[0],\n",
    "                             \"target\":ss, \n",
    "                             \"link\":\"synonym\"})\n",
    "            for s1 in fn(s):\n",
    "                if not s1 in seen:\n",
    "                    node.add(s1.lemma_names('eng')[0])\n",
    "                edge.append({\"source\":s.lemma_names('eng')[0],\n",
    "                             \"target\":s1.lemma_names('eng')[0], \n",
    "                             \"link\":\"hyperonym\"})\n",
    "                recurse(s1)\n",
    "    recurse(synset)\n",
    "    return (list(node),edge)"
   ]
  },
  {
   "cell_type": "code",
   "execution_count": 6,
   "metadata": {},
   "outputs": [
    {
     "name": "stdout",
     "output_type": "stream",
     "text": [
      "dog\n",
      "canine\n",
      "carnivore\n",
      "placental\n",
      "mammal\n",
      "vertebrate\n",
      "chordate\n",
      "animal\n",
      "organism\n",
      "living_thing\n",
      "whole\n",
      "object\n",
      "physical_entity\n",
      "entity\n",
      "domestic_animal\n"
     ]
    }
   ],
   "source": [
    "dog = wn.synset('dog.n.01')\n",
    "graph = closure_graph(dog,lambda s: s.hypernyms())"
   ]
  },
  {
   "cell_type": "code",
   "execution_count": 8,
   "metadata": {},
   "outputs": [
    {
     "name": "stdout",
     "output_type": "stream",
     "text": [
      "48\n"
     ]
    }
   ],
   "source": [
    "enum = enumerate(graph[0])\n",
    "enum = list(enum)\n",
    "print(len(graph[1]))\n",
    "for i in range(0, len(graph[1])):\n",
    "    for j in range(0,len(enum)):\n",
    "        if graph[1][i]['source']== enum[j][1]:\n",
    "            graph[1][i]['source']=enum[j][0]\n",
    "        if graph[1][i]['target']== enum[j][1]:\n",
    "            graph[1][i]['target']=enum[j][0]\n",
    "            \n",
    "for i in range(0,len(graph[0])):\n",
    "        for j in range(0,len(enum)):\n",
    "            if graph[0][i]== enum[j][1]:\n",
    "                graph[0][i]={\"id\":enum[j][0], \"name\":graph[0][i]}"
   ]
  },
  {
   "cell_type": "code",
   "execution_count": 10,
   "metadata": {},
   "outputs": [
    {
     "data": {
      "text/plain": [
       "([{'id': 0, 'name': 'placental_mammal'},\n",
       "  {'id': 1, 'name': 'eutherian'},\n",
       "  {'id': 2, 'name': 'domestic_animal'},\n",
       "  {'id': 3, 'name': 'animate_thing'},\n",
       "  {'id': 4, 'name': 'mammalian'},\n",
       "  {'id': 5, 'name': 'animate_being'},\n",
       "  {'id': 6, 'name': 'physical_object'},\n",
       "  {'id': 7, 'name': 'chordate'},\n",
       "  {'id': 8, 'name': 'object'},\n",
       "  {'id': 9, 'name': 'canine'},\n",
       "  {'id': 10, 'name': 'animal'},\n",
       "  {'id': 11, 'name': 'domestic_dog'},\n",
       "  {'id': 12, 'name': 'vertebrate'},\n",
       "  {'id': 13, 'name': 'mammal'},\n",
       "  {'id': 14, 'name': 'eutherian_mammal'},\n",
       "  {'id': 15, 'name': 'whole'},\n",
       "  {'id': 16, 'name': 'carnivore'},\n",
       "  {'id': 17, 'name': 'unit'},\n",
       "  {'id': 18, 'name': 'canid'},\n",
       "  {'id': 19, 'name': 'craniate'},\n",
       "  {'id': 20, 'name': 'placental'},\n",
       "  {'id': 21, 'name': 'domesticated_animal'},\n",
       "  {'id': 22, 'name': 'creature'},\n",
       "  {'id': 23, 'name': 'living_thing'},\n",
       "  {'id': 24, 'name': 'physical_entity'},\n",
       "  {'id': 25, 'name': 'Canis_familiaris'},\n",
       "  {'id': 26, 'name': 'beast'},\n",
       "  {'id': 27, 'name': 'brute'},\n",
       "  {'id': 28, 'name': 'entity'},\n",
       "  {'id': 29, 'name': 'dog'},\n",
       "  {'id': 30, 'name': 'organism'},\n",
       "  {'id': 31, 'name': 'fauna'},\n",
       "  {'id': 32, 'name': 'being'}],\n",
       " [{'source': 29, 'target': 29, 'link': 'synonym'},\n",
       "  {'source': 29, 'target': 11, 'link': 'synonym'},\n",
       "  {'source': 29, 'target': 25, 'link': 'synonym'},\n",
       "  {'source': 29, 'target': 9, 'link': 'hyperonym'},\n",
       "  {'source': 9, 'target': 9, 'link': 'synonym'},\n",
       "  {'source': 9, 'target': 18, 'link': 'synonym'},\n",
       "  {'source': 9, 'target': 16, 'link': 'hyperonym'},\n",
       "  {'source': 16, 'target': 16, 'link': 'synonym'},\n",
       "  {'source': 16, 'target': 20, 'link': 'hyperonym'},\n",
       "  {'source': 20, 'target': 20, 'link': 'synonym'},\n",
       "  {'source': 20, 'target': 0, 'link': 'synonym'},\n",
       "  {'source': 20, 'target': 1, 'link': 'synonym'},\n",
       "  {'source': 20, 'target': 14, 'link': 'synonym'},\n",
       "  {'source': 20, 'target': 13, 'link': 'hyperonym'},\n",
       "  {'source': 13, 'target': 13, 'link': 'synonym'},\n",
       "  {'source': 13, 'target': 4, 'link': 'synonym'},\n",
       "  {'source': 13, 'target': 12, 'link': 'hyperonym'},\n",
       "  {'source': 12, 'target': 12, 'link': 'synonym'},\n",
       "  {'source': 12, 'target': 19, 'link': 'synonym'},\n",
       "  {'source': 12, 'target': 7, 'link': 'hyperonym'},\n",
       "  {'source': 7, 'target': 7, 'link': 'synonym'},\n",
       "  {'source': 7, 'target': 10, 'link': 'hyperonym'},\n",
       "  {'source': 10, 'target': 10, 'link': 'synonym'},\n",
       "  {'source': 10, 'target': 5, 'link': 'synonym'},\n",
       "  {'source': 10, 'target': 26, 'link': 'synonym'},\n",
       "  {'source': 10, 'target': 27, 'link': 'synonym'},\n",
       "  {'source': 10, 'target': 22, 'link': 'synonym'},\n",
       "  {'source': 10, 'target': 31, 'link': 'synonym'},\n",
       "  {'source': 10, 'target': 30, 'link': 'hyperonym'},\n",
       "  {'source': 30, 'target': 30, 'link': 'synonym'},\n",
       "  {'source': 30, 'target': 32, 'link': 'synonym'},\n",
       "  {'source': 30, 'target': 23, 'link': 'hyperonym'},\n",
       "  {'source': 23, 'target': 23, 'link': 'synonym'},\n",
       "  {'source': 23, 'target': 3, 'link': 'synonym'},\n",
       "  {'source': 23, 'target': 15, 'link': 'hyperonym'},\n",
       "  {'source': 15, 'target': 15, 'link': 'synonym'},\n",
       "  {'source': 15, 'target': 17, 'link': 'synonym'},\n",
       "  {'source': 15, 'target': 8, 'link': 'hyperonym'},\n",
       "  {'source': 8, 'target': 8, 'link': 'synonym'},\n",
       "  {'source': 8, 'target': 6, 'link': 'synonym'},\n",
       "  {'source': 8, 'target': 24, 'link': 'hyperonym'},\n",
       "  {'source': 24, 'target': 24, 'link': 'synonym'},\n",
       "  {'source': 24, 'target': 28, 'link': 'hyperonym'},\n",
       "  {'source': 28, 'target': 28, 'link': 'synonym'},\n",
       "  {'source': 29, 'target': 2, 'link': 'hyperonym'},\n",
       "  {'source': 2, 'target': 2, 'link': 'synonym'},\n",
       "  {'source': 2, 'target': 21, 'link': 'synonym'},\n",
       "  {'source': 2, 'target': 10, 'link': 'hyperonym'}])"
      ]
     },
     "execution_count": 10,
     "metadata": {},
     "output_type": "execute_result"
    }
   ],
   "source": [
    "graph"
   ]
  },
  {
   "cell_type": "code",
   "execution_count": 9,
   "metadata": {},
   "outputs": [
    {
     "name": "stdout",
     "output_type": "stream",
     "text": [
      "graph[0] {'id': 0, 'name': 'placental_mammal'}\n",
      "graph[0] [{'id': 0, 'name': 'placental_mammal'}, {'id': 1, 'name': 'eutherian'}, {'id': 2, 'name': 'domestic_animal'}, {'id': 3, 'name': 'animate_thing'}, {'id': 4, 'name': 'mammalian'}, {'id': 5, 'name': 'animate_being'}, {'id': 6, 'name': 'physical_object'}, {'id': 7, 'name': 'chordate'}, {'id': 8, 'name': 'object'}, {'id': 9, 'name': 'canine'}, {'id': 10, 'name': 'animal'}, {'id': 11, 'name': 'domestic_dog'}, {'id': 12, 'name': 'vertebrate'}, {'id': 13, 'name': 'mammal'}, {'id': 14, 'name': 'eutherian_mammal'}, {'id': 15, 'name': 'whole'}, {'id': 16, 'name': 'carnivore'}, {'id': 17, 'name': 'unit'}, {'id': 18, 'name': 'canid'}, {'id': 19, 'name': 'craniate'}, {'id': 20, 'name': 'placental'}, {'id': 21, 'name': 'domesticated_animal'}, {'id': 22, 'name': 'creature'}, {'id': 23, 'name': 'living_thing'}, {'id': 24, 'name': 'physical_entity'}, {'id': 25, 'name': 'Canis_familiaris'}, {'id': 26, 'name': 'beast'}, {'id': 27, 'name': 'brute'}, {'id': 28, 'name': 'entity'}, {'id': 29, 'name': 'dog'}, {'id': 30, 'name': 'organism'}, {'id': 31, 'name': 'fauna'}, {'id': 32, 'name': 'being'}]\n"
     ]
    }
   ],
   "source": [
    "print('graph[0]', graph[0][0])\n",
    "with open(\"wordnet.json\",\"w\") as fh:\n",
    "    print('graph[0]', list(map(dict, graph[0])))\n",
    "    json.dump({\"nodes\": graph[0],\"links\":graph[1]},fh)"
   ]
  },
  {
   "cell_type": "code",
   "execution_count": null,
   "metadata": {},
   "outputs": [],
   "source": []
  }
 ],
 "metadata": {
  "kernelspec": {
   "display_name": "Python 3",
   "language": "python",
   "name": "python3"
  },
  "language_info": {
   "codemirror_mode": {
    "name": "ipython",
    "version": 3
   },
   "file_extension": ".py",
   "mimetype": "text/x-python",
   "name": "python",
   "nbconvert_exporter": "python",
   "pygments_lexer": "ipython3",
   "version": "3.7.4"
  }
 },
 "nbformat": 4,
 "nbformat_minor": 4
}
